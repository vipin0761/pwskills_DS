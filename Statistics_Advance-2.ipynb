{
  "nbformat": 4,
  "nbformat_minor": 0,
  "metadata": {
    "colab": {
      "provenance": [],
      "authorship_tag": "ABX9TyNYSKFolBAeLvqvLuCHkoSz",
      "include_colab_link": true
    },
    "kernelspec": {
      "name": "python3",
      "display_name": "Python 3"
    },
    "language_info": {
      "name": "python"
    }
  },
  "cells": [
    {
      "cell_type": "markdown",
      "metadata": {
        "id": "view-in-github",
        "colab_type": "text"
      },
      "source": [
        "<a href=\"https://colab.research.google.com/github/vipin0761/pwskills_DS/blob/main/Statistics_Advance-2.ipynb\" target=\"_parent\"><img src=\"https://colab.research.google.com/assets/colab-badge.svg\" alt=\"Open In Colab\"/></a>"
      ]
    },
    {
      "cell_type": "code",
      "execution_count": null,
      "metadata": {
        "id": "EqN7Area8-VJ"
      },
      "outputs": [],
      "source": [
        "Q1: What are the Probability Mass Function (PMF) and Probability Density Function (PDF)? Explain with\n",
        "an example.\n",
        "\n",
        "PMF is a function over the sample space of a discrete random variable X which gives the probability that X is equal to a certain value.\n",
        "PDF is a statistical expression that defines the probability that some outcome will occur. In this function, the probability is the percentage of a dataset's distribution that falls between two criteria.\n",
        "\n",
        "basically PDF is a probability distribution function used to measure continuous data events while PMF is used to study discrete data points"
      ]
    },
    {
      "cell_type": "markdown",
      "source": [
        "Q2: What is Cumulative Density Function (CDF)? Explain with an example. Why CDF is used?\n",
        "\n",
        "it is a cumulative distribution of the probability of happenind of a event or lower event than that.\n",
        "\n",
        "eg. -- probability of at least 2 runs on a ball as the possible outcomes can be 2,3,4,6\n",
        "\n",
        "it is used to establis confidence intervals from a sample statistic\n"
      ],
      "metadata": {
        "id": "VJVnSanG_edu"
      }
    },
    {
      "cell_type": "markdown",
      "source": [
        "Q3: What are some examples of situations where the normal distribution might be used as a model?\n",
        "Explain how the parameters of the normal distribution relate to the shape of the distribution.\n",
        "\n",
        "most datasets lagre enough and having discrete data points will point towards a normal distribution.\n",
        "\n",
        "e.g  -- average height of a citizen of a country\n",
        "\n",
        "the mean is at the peak of the bell curve representing the most frequent value in a data set and the standard deviation is a measure of dispersion of the data across the mean"
      ],
      "metadata": {
        "id": "xwN7k37wAAcp"
      }
    },
    {
      "cell_type": "markdown",
      "source": [
        "Q4: Explain the importance of Normal Distribution. Give a few real-life examples of Normal Distribution.\n",
        "\n",
        "most datasets lagre enough and having discrete data points will point towards a normal distribution. so, it is most commonly used to study large discrete datasets\n",
        "\n",
        "e.g -- average height of a citizen of a country\n",
        "e.g -- average weight of a citizen of a country\n",
        "e.g -- average marks in a standard across a state"
      ],
      "metadata": {
        "id": "nhMFR73RATbs"
      }
    },
    {
      "cell_type": "markdown",
      "source": [
        "Q5: What is Bernaulli Distribution? Give an Example. What is the difference between Bernoulli\n",
        "Distribution and Binomial Distribution?\n",
        "\n",
        "a Bernaulli distribution represents a single event with a yes-no outcome with p prob. of success. while a bionomial distribution represents n discrete and independent yes-no event each having p prob. of success."
      ],
      "metadata": {
        "id": "m-AqvnZgA8lp"
      }
    },
    {
      "cell_type": "markdown",
      "source": [
        "Q6. Consider a dataset with a mean of 50 and a standard deviation of 10. If we assume that the dataset\n",
        "is normally distributed, what is the probability that a randomly selected observation will be greater\n",
        "than 60? Use the appropriate formula and show your calculations.\n",
        "\n",
        "U = (60-50)/10 = 1\n",
        "\n",
        "so the std. ND value is 1 whisch is 1 STandard deviation from Mean(0)\n",
        "1 std represents 68% data\n",
        "so prob if value greater than 60 = 1-0.68/2 = .16\n",
        "16%\n"
      ],
      "metadata": {
        "id": "R5HxHhaKLAdY"
      }
    },
    {
      "cell_type": "markdown",
      "source": [
        "Q7: Explain uniform Distribution with an example.\n",
        "\n",
        "in this function each and every outcome has a equal probability of happening within the given range.\n",
        "\n",
        "e.g. -- propability of selceting a random no. within a range"
      ],
      "metadata": {
        "id": "Yo2fKKswLFAz"
      }
    },
    {
      "cell_type": "markdown",
      "source": [
        "Q8: What is the z score? State the importance of the z score.\n",
        "\n",
        "it is a statistical measurement that describes a value's relationship to the mean of a group of values. it basically helps establish a probability of happening of the given event."
      ],
      "metadata": {
        "id": "wVaKlfZp3Qnf"
      }
    },
    {
      "cell_type": "markdown",
      "source": [
        "Q9: What is Central Limit Theorem? State the significance of the Central Limit Theorem.\n",
        "\n",
        "it says that the sampling distribution of the mean will always be normally distributed, as long as the sample size is large enough. regardless of weather the population has any distribution.\n",
        "\n",
        "it hepls accurately determine the population mean from sample mean irrespective of the type of distribution of the population."
      ],
      "metadata": {
        "id": "FJclfevO3luy"
      }
    },
    {
      "cell_type": "markdown",
      "source": [
        "Q10: State the assumptions of the Central Limit Theorem.\n",
        "\n",
        "1. data must be randomly sampled\n",
        "2. samples are unrelated to each other\n",
        "3. sample size should not exceed 10% of the population\n"
      ],
      "metadata": {
        "id": "IsOYN6Kl4kPc"
      }
    }
  ]
}