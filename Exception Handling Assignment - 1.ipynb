{
  "nbformat": 4,
  "nbformat_minor": 0,
  "metadata": {
    "colab": {
      "provenance": [],
      "authorship_tag": "ABX9TyPUI5UXu7AbRzzjfcN8AcnN",
      "include_colab_link": true
    },
    "kernelspec": {
      "name": "python3",
      "display_name": "Python 3"
    },
    "language_info": {
      "name": "python"
    }
  },
  "cells": [
    {
      "cell_type": "markdown",
      "metadata": {
        "id": "view-in-github",
        "colab_type": "text"
      },
      "source": [
        "<a href=\"https://colab.research.google.com/github/vipin0761/pwskills_DS/blob/main/Exception%20Handling%20Assignment%20-%201.ipynb\" target=\"_parent\"><img src=\"https://colab.research.google.com/assets/colab-badge.svg\" alt=\"Open In Colab\"/></a>"
      ]
    },
    {
      "cell_type": "code",
      "execution_count": null,
      "metadata": {
        "id": "nr09sMo3P8g8"
      },
      "outputs": [],
      "source": []
    },
    {
      "cell_type": "markdown",
      "source": [
        "Q1. What is an Exception in pthon? Write the difference between Exceptions and syntax errors\n",
        "\n",
        "exceptin is caused by a logical break or unexpected input from the user. syntax error is textual error done by the develpoer.\n",
        "\n",
        "Q2. What happens when an exception is not handled? Explain with an example\n",
        "\n",
        "when a exception is not handled the program it will terminate the program when the exception occurs leaving the rest of the code unexecuted.\n",
        "\n",
        "while performing operations on a no. if it is divided by 0 without the error being handled it will terminate at that point without performing any future operations\n",
        "\n",
        "Q3. Which Python statements are used to, catch and handle exceptions? Explain with an example\n",
        "\n",
        "you can use a try except block to handle exceptions in python.\n",
        "\n",
        "try:\n",
        "    numerator = 10\n",
        "    denominator = 0\n",
        "\n",
        "    result = numerator/denominator\n",
        "\n",
        "    print(result)\n",
        "except:\n",
        "    print(\"Error: Denominator cannot be 0.\")\n",
        "\n",
        "Q4. Explain with an example:\n",
        "# try and else\n",
        "try and else help you run additional code from the else block if the exception is not thrown\n",
        "\n",
        "try:\n",
        "    num = int(input(\"Enter a number: \"))\n",
        "    assert num % 2 == 0\n",
        "except:\n",
        "    print(\"Not an even number!\")\n",
        "else:\n",
        "    reciprocal = 1/num\n",
        "    print(reciprocal)\n",
        "\n",
        "# finally\n",
        "finally is usually used to execute the final code irrespective of weather an exception was thrown or not. this is usually used for freeing up resources used by the function\n",
        "\n",
        "try:\n",
        "    num = int(input(\"Enter a number: \"))\n",
        "    assert num % 2 == 0\n",
        "except:\n",
        "    print(\"Not an even number!\")\n",
        "else:\n",
        "    reciprocal = 1/num\n",
        "    print(reciprocal)\n",
        "finally:\n",
        "    print('function completed')\n",
        "\n",
        "# raise\n",
        "raise is used in the situations where you want to raise a custom exception or you want the calling code to handle the exception thrown within this function.\n",
        "\n",
        "x = -1\n",
        "\n",
        "if x < 0:\n",
        "  raise Exception(\"Sorry, no numbers below zero\")\n",
        "\n",
        "\n",
        "\n",
        "Q5. What are Custom Exceptions in python? What do we need Custom Exceptions? Explain with an example\n",
        "custom exceptions are used when the develor want a certain codition or situation to be treated as a exception\n",
        "\n",
        "for age of people you dont want them to be less than 0\n",
        "\n",
        "\n",
        "Q6. Create custom exception class. Use this class to handle an exception.\n",
        "\n",
        "class InvalidAgeException(Exception):\n",
        "    \"Raised when the input value is less than 18\"\n",
        "    pass\n",
        "\n",
        "# you need to guess this number\n",
        "number = 18\n",
        "\n",
        "try:\n",
        "    input_num = int(input(\"Enter a number: \"))\n",
        "    if input_num < number:\n",
        "        raise InvalidAgeException\n",
        "    else:\n",
        "        print(\"Eligible to Vote\")\n",
        "        \n",
        "except InvalidAgeException:\n",
        "    print(\"Exception occurred: Invalid Age\")"
      ],
      "metadata": {
        "id": "FQoLEdqKP9cA"
      }
    }
  ]
}