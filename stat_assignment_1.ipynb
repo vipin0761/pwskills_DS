{
  "nbformat": 4,
  "nbformat_minor": 0,
  "metadata": {
    "colab": {
      "provenance": [],
      "authorship_tag": "ABX9TyN/q4knM5WPkaNJkhkJI5Cw",
      "include_colab_link": true
    },
    "kernelspec": {
      "name": "python3",
      "display_name": "Python 3"
    },
    "language_info": {
      "name": "python"
    }
  },
  "cells": [
    {
      "cell_type": "markdown",
      "metadata": {
        "id": "view-in-github",
        "colab_type": "text"
      },
      "source": [
        "<a href=\"https://colab.research.google.com/github/vipin0761/pwskills_DS/blob/main/stat_assignment_1.ipynb\" target=\"_parent\"><img src=\"https://colab.research.google.com/assets/colab-badge.svg\" alt=\"Open In Colab\"/></a>"
      ]
    },
    {
      "cell_type": "markdown",
      "source": [
        "Q1. What is Statistics?\n",
        "\n",
        "statistics is the science of collecting, organizing and analysing data."
      ],
      "metadata": {
        "id": "N-KAGYiJyKwX"
      }
    },
    {
      "cell_type": "markdown",
      "source": [
        "Q2. Define the different types of statistics and give an example of when each type might be used.\n",
        "\n",
        "Types of Statistics\n",
        "- Descriptive Statistics --> it consists of organizing and summarizing the data\n",
        "- Inferential Statistics --> it consists of using data you have measured to form conclusions\n"
      ],
      "metadata": {
        "id": "NUtIK4h29jza"
      }
    },
    {
      "cell_type": "markdown",
      "source": [
        "Q3. What are the different types of data and how do they differ from each other? Provide an example of\n",
        "each type of data.\n",
        "\n",
        "Types of Data\n",
        "\n",
        "1.\tQuantitative Data --> numerical data\n",
        "-\tDiscrete Data --> whole numbers in specific range (e.g. no of children)\n",
        "- Continuous Data --> floating values possible (e.g. temperature, grades)\n",
        "2. Qualitative Data --> non-numerical data\n",
        "-\tNominal Data --> categories cannot be ranked (e.g. Gender, Blood Group)\n",
        "-\tOrdinal Data --> categories can be ranked (e.g. customer feedback)\n"
      ],
      "metadata": {
        "id": "y5obZm6T9j2J"
      }
    },
    {
      "cell_type": "markdown",
      "source": [
        "Q4. Categorise the following datasets with respect to quantitative and qualitative data types:\n",
        "\n",
        "(i) Grading in exam: A+, A, B+, B, C+, C, D, E\n",
        "\n",
        "(ii) Colour of mangoes: yellow, green, orange, red\n",
        "\n",
        "(iii) Height data of a class: [178.9, 179, 179.5, 176, 177.2, 178.3, 175.8,...]\n",
        "\n",
        "(iv) Number of mangoes exported by a farm: [500, 600, 478, 672, ...]\n",
        "\n",
        "1. Ordinal Data\n",
        "2. Nominal Data\n",
        "3. continuous Data\n",
        "4. Discrete Data\n"
      ],
      "metadata": {
        "id": "yARJ4Uvo9j5U"
      }
    },
    {
      "cell_type": "markdown",
      "source": [
        "Q5. Explain the concept of levels of measurement and give an example of a variable for each level.\n",
        "\n",
        "1. nominal scale\n",
        "*   qualitative/categorical data\n",
        "*   e.g. -- gender\n",
        "2. ordinal scale\n",
        "*   rank/order matters\n",
        "*   customer feedback\n",
        "3. interval scale\n",
        "*   rank/order data where difference matters\n",
        "*   temp\n",
        "4. ratio scale\n",
        "*   rank order data where ratio and difference both are valid\n",
        "*   it has a absolute 0 (starting point)\n",
        "*   marks\n",
        "\n",
        "\n",
        "\n",
        "\n",
        "\n",
        "\n",
        "\n",
        "\n"
      ],
      "metadata": {
        "id": "X5S31K7D9j8p"
      }
    },
    {
      "cell_type": "markdown",
      "source": [
        "Q6. Why is it important to understand the level of measurement when analyzing data? Provide an\n",
        "example to illustrate your answer.\n",
        "\n",
        "it is important to understand the level of measurement of the data to understand the applicable operations and type of inferations that can be made from a data.\n",
        "\n",
        "e.g. -- you cannot theat tmp. as ratio interval data as 2 degree is not as double heat/cold as compared to 1 degree. also, there is not absolute 0 in temp."
      ],
      "metadata": {
        "id": "NRGrmVIJ9j_S"
      }
    },
    {
      "cell_type": "markdown",
      "source": [
        "Q7. How nominal data type is different from ordinal data type.\n",
        "\n",
        "nominal data cannot be ranked while we can rank ordinal data"
      ],
      "metadata": {
        "id": "KaKEVGQq9kEZ"
      }
    },
    {
      "cell_type": "markdown",
      "source": [
        "Q8. Which type of plot can be used to display data in terms of range?\n",
        "\n",
        "scatter plot"
      ],
      "metadata": {
        "id": "-Q36gpfu9kHi"
      }
    },
    {
      "cell_type": "markdown",
      "source": [
        "Q9. Describe the difference between descriptive and inferential statistics. Give an example of each\n",
        "type of statistics and explain how they are used.\n",
        "\n",
        "descriptive statistics is organizing and suumarizing the data.\n",
        "e.g. -- the past growth rate of reliance has bben aroung 9% annually\n",
        "\n",
        "inferential statistics consists of using data you have measured to form conclusions.\n",
        "e.g. -- based on reliance's past performance and econoimic forecasts the growht rate for next year is expected to be around 11%"
      ],
      "metadata": {
        "id": "WW2Eryu3_Flu"
      }
    },
    {
      "cell_type": "markdown",
      "source": [
        "Q10. What are some common measures of central tendency and variability used in statistics? Explain\n",
        "how each measure can be used to describe a dataset.\n",
        "\n",
        "measures of central Tendency\n",
        "1. Mean --   average of the data set\n",
        "2. Median -- middle value of the sorted dataset\n",
        "3. Mode -- most frequent value in the dataset\n",
        "\n",
        "measures of variability\n",
        "1. range -- high -- low of the datasdet\n",
        "2. variance -- it measures how much the given dataset differs from the mean\n",
        "3. std dev. -- better scalable alternate to variance"
      ],
      "metadata": {
        "id": "v9WUacyl_GC6"
      }
    }
  ]
}