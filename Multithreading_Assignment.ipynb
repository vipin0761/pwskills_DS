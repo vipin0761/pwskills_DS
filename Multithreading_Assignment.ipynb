{
  "nbformat": 4,
  "nbformat_minor": 0,
  "metadata": {
    "colab": {
      "provenance": [],
      "authorship_tag": "ABX9TyPoQnWTRKp1bwm3B1vHZlxJ",
      "include_colab_link": true
    },
    "kernelspec": {
      "name": "python3",
      "display_name": "Python 3"
    },
    "language_info": {
      "name": "python"
    }
  },
  "cells": [
    {
      "cell_type": "markdown",
      "metadata": {
        "id": "view-in-github",
        "colab_type": "text"
      },
      "source": [
        "<a href=\"https://colab.research.google.com/github/vipin0761/pwskills_DS/blob/main/Multithreading_Assignment.ipynb\" target=\"_parent\"><img src=\"https://colab.research.google.com/assets/colab-badge.svg\" alt=\"Open In Colab\"/></a>"
      ]
    },
    {
      "cell_type": "markdown",
      "source": [
        "1. what is multithreading in python? why is it used? Name the module used to handle threads in python\n",
        "\n",
        "A thread is an entity within a process that can be scheduled for execution (Also known as \"leightweight process\"). A Process can spawn multiple threads. The main difference is that all threads within a process share the same memory.\n",
        "\n",
        "threading module is used for creating threads\n",
        "\n",
        "2. why threading module used? write the use of the following functions\n",
        "\n",
        "activeCount, currentThread, enumerate\n",
        "\n",
        "threading module is used to create threads in python.\n",
        "\n",
        "activeCount() -- returns the number of thread objects that are active.\n",
        "\n",
        "current_thread() -- represents the active thread\n",
        "\n",
        "enumerate() -- used to iterate the key-value pair of a iterable\n",
        "\n",
        "3. Explain the following functions\n",
        "\n",
        "run, start, join, isAlive\n",
        "\n",
        "run --\n",
        "join -- it holds further execution of current program until all the liked threads are completed.\n",
        "\n",
        "isAlive -- to check weather a current thread is currently active or not\n",
        "\n",
        "start -- to start execution of a thread as a seperate thread\n",
        "\n",
        "run -- it runs the thread in context of the current thread, it does not spawn a seperate thread.\n"
      ],
      "metadata": {
        "id": "32r_N8xReYPb"
      }
    },
    {
      "cell_type": "markdown",
      "source": [
        "4. write a python program to create two threads. Thread one must print the list of squares and thread two must print the list of cubes"
      ],
      "metadata": {
        "id": "1rQkbAFv3Kr7"
      }
    },
    {
      "cell_type": "code",
      "source": [
        "from threading import Thread\n",
        "\n",
        "def square_numbers():\n",
        "    for i in range(10):\n",
        "        result = i * i\n",
        "\n",
        "def cube_numbers():\n",
        "    for i in range(10):\n",
        "        result = i * i * i\n",
        "\n",
        "\n",
        "if __name__ == \"__main__\":\n",
        "    threads = []\n",
        "\n",
        "    thread = Thread(target=square_numbers)\n",
        "    threads.append(thread)\n",
        "    thread = Thread(target=cube_numbers)\n",
        "    threads.append(thread)\n",
        "\n",
        "    thread[0].start()\n",
        "    thread[1].start()\n",
        "\n",
        "    for thread in threads:\n",
        "        thread.join()"
      ],
      "metadata": {
        "id": "rPKpu9fF3KMS"
      },
      "execution_count": null,
      "outputs": []
    },
    {
      "cell_type": "markdown",
      "source": [
        "5. State advantages and disadvantages of multithreading\n",
        "\n",
        "Advantage\n",
        "-- it uses multiple cores to speed up achieve parallel computation\n",
        "\n",
        "Disadvantages\n",
        "\n",
        "-- slow to initiate new process compared to thread\n",
        "-- deadlocks can happen\n",
        "-- memory sharing is difficult\n",
        "\n",
        "6. Explain deadlocks and race conditions.\n",
        "\n"
      ],
      "metadata": {
        "id": "edwllavq5Fjo"
      }
    }
  ]
}