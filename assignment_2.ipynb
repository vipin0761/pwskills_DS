{
  "nbformat": 4,
  "nbformat_minor": 0,
  "metadata": {
    "colab": {
      "provenance": [],
      "authorship_tag": "ABX9TyO4naLVlLWAWKzq9Vq0X469",
      "include_colab_link": true
    },
    "kernelspec": {
      "name": "python3",
      "display_name": "Python 3"
    },
    "language_info": {
      "name": "python"
    }
  },
  "cells": [
    {
      "cell_type": "markdown",
      "metadata": {
        "id": "view-in-github",
        "colab_type": "text"
      },
      "source": [
        "<a href=\"https://colab.research.google.com/github/vipin0761/pwskills_DS/blob/main/assignment_2.ipynb\" target=\"_parent\"><img src=\"https://colab.research.google.com/assets/colab-badge.svg\" alt=\"Open In Colab\"/></a>"
      ]
    },
    {
      "cell_type": "markdown",
      "source": [
        "Q1. How do you comment code in Python? What are the different types of comments?"
      ],
      "metadata": {
        "id": "LWzuzldqzare"
      }
    },
    {
      "cell_type": "code",
      "source": [
        "# single line commeent\n",
        "'''\n",
        "multi\n",
        "line\n",
        "comment\n",
        "'''\n"
      ],
      "metadata": {
        "colab": {
          "base_uri": "https://localhost:8080/",
          "height": 35
        },
        "id": "MxXDfdSLzgRM",
        "outputId": "d627c577-6484-4a61-8218-344dfa244432"
      },
      "execution_count": 1,
      "outputs": [
        {
          "output_type": "execute_result",
          "data": {
            "text/plain": [
              "'\\nmulti \\nline\\ncomment\\n'"
            ],
            "application/vnd.google.colaboratory.intrinsic+json": {
              "type": "string"
            }
          },
          "metadata": {},
          "execution_count": 1
        }
      ]
    },
    {
      "cell_type": "markdown",
      "source": [
        "Q2. What are variables in Python? How do you declare and assign values to variables?"
      ],
      "metadata": {
        "id": "03jlOHLMzsSN"
      }
    },
    {
      "cell_type": "code",
      "source": [
        "a = 10\n",
        "b = 2.0\n",
        "c = 'hello'\n",
        "d = [1,2,0.4,'hi']"
      ],
      "metadata": {
        "id": "leJo1F_Pzxm6"
      },
      "execution_count": 2,
      "outputs": []
    },
    {
      "cell_type": "markdown",
      "source": [
        "Q3. How do you convert one data type to another in Python?"
      ],
      "metadata": {
        "id": "3QQlgHwCz69P"
      }
    },
    {
      "cell_type": "code",
      "source": [
        "a = int('10')\n",
        "b = str(25.6)\n",
        "c = float('20.6')\n"
      ],
      "metadata": {
        "id": "g4TT61Dxz7Ex"
      },
      "execution_count": 3,
      "outputs": []
    },
    {
      "cell_type": "markdown",
      "source": [
        "Q4. How do you write and execute a Python script from the command line?"
      ],
      "metadata": {
        "id": "WlmVvB92z7Mr"
      }
    },
    {
      "cell_type": "code",
      "source": [
        "# python demo.py"
      ],
      "metadata": {
        "id": "JAY8rXAHz7Ux"
      },
      "execution_count": 4,
      "outputs": []
    },
    {
      "cell_type": "markdown",
      "source": [
        "Q5. Given a list my_list = [1, 2, 3, 4, 5], write the code to slice the list and obtain the sub-list [2, 3]."
      ],
      "metadata": {
        "id": "eLM7z7-Yz7cV"
      }
    },
    {
      "cell_type": "code",
      "source": [
        "my_list = [1, 2, 3, 4, 5]\n",
        "a = my_list[1:3]\n",
        "print(a)"
      ],
      "metadata": {
        "colab": {
          "base_uri": "https://localhost:8080/"
        },
        "id": "p_vyEtGGz7ji",
        "outputId": "a2ccc9a3-2f8f-4a39-d0ea-c66c233b666e"
      },
      "execution_count": 5,
      "outputs": [
        {
          "output_type": "stream",
          "name": "stdout",
          "text": [
            "[2, 3]\n"
          ]
        }
      ]
    },
    {
      "cell_type": "markdown",
      "source": [
        "Q6. What is a complex number in mathematics, and how is it represented in Python?"
      ],
      "metadata": {
        "id": "bxNY-2K4z71J"
      }
    },
    {
      "cell_type": "code",
      "source": [
        "z = complex(2,3)\n",
        "print(z.real, z.imag)"
      ],
      "metadata": {
        "colab": {
          "base_uri": "https://localhost:8080/"
        },
        "id": "L5xubTpiz78h",
        "outputId": "7e9ed725-3a07-4911-a9b9-3ca67f0d6cb3"
      },
      "execution_count": 6,
      "outputs": [
        {
          "output_type": "stream",
          "name": "stdout",
          "text": [
            "2.0 3.0\n"
          ]
        }
      ]
    },
    {
      "cell_type": "markdown",
      "source": [
        "Q7. What is the correct way to declare a variable named age and assign the value 25 to it?"
      ],
      "metadata": {
        "id": "v3ck2L2Az8Dk"
      }
    },
    {
      "cell_type": "code",
      "source": [
        "age = 25"
      ],
      "metadata": {
        "id": "_d8qryn0z8TM"
      },
      "execution_count": 7,
      "outputs": []
    },
    {
      "cell_type": "markdown",
      "source": [
        "Q8. Declare a variable named price and assign the value 9.99 to it. What data type does this variable\n",
        "belong to?"
      ],
      "metadata": {
        "id": "1rujeJON0qi2"
      }
    },
    {
      "cell_type": "code",
      "source": [
        "price = 9.99"
      ],
      "metadata": {
        "id": "rvva2wsY06wf"
      },
      "execution_count": 8,
      "outputs": []
    },
    {
      "cell_type": "markdown",
      "source": [
        "Q9. Create a variable named name and assign your full name to it as a string. How would you print the\n",
        "value of this variable?"
      ],
      "metadata": {
        "id": "Pbob8azG0sey"
      }
    },
    {
      "cell_type": "code",
      "source": [
        "name = 'Vipin Keshwani'\n",
        "print(name)"
      ],
      "metadata": {
        "colab": {
          "base_uri": "https://localhost:8080/"
        },
        "id": "77cJ1BXd0tQt",
        "outputId": "0d4c763f-b8ab-4047-fd66-f230688b665f"
      },
      "execution_count": 9,
      "outputs": [
        {
          "output_type": "stream",
          "name": "stdout",
          "text": [
            "Vipin Keshwani\n"
          ]
        }
      ]
    },
    {
      "cell_type": "markdown",
      "source": [
        "Q10. Given the string \"Hello, World!\", extract the substring \"World\"."
      ],
      "metadata": {
        "id": "oC2LujCS0suQ"
      }
    },
    {
      "cell_type": "code",
      "source": [
        "s = \"Hello, World!\"[7:12]\n",
        "print(s)"
      ],
      "metadata": {
        "colab": {
          "base_uri": "https://localhost:8080/"
        },
        "id": "8z101oLB0tYb",
        "outputId": "9aba5ac6-4cfe-410b-b238-c9ca776de6e6"
      },
      "execution_count": 10,
      "outputs": [
        {
          "output_type": "stream",
          "name": "stdout",
          "text": [
            "World\n"
          ]
        }
      ]
    },
    {
      "cell_type": "markdown",
      "source": [
        "Q11. Create a variable named \"is_student\" and assign it a boolean value indicating whether you are\n",
        "currently a student or not."
      ],
      "metadata": {
        "id": "1xfG1Lao04Ns"
      }
    },
    {
      "cell_type": "code",
      "source": [
        "is_student = True"
      ],
      "metadata": {
        "id": "yiJHAvdt0tfR"
      },
      "execution_count": 11,
      "outputs": []
    }
  ]
}