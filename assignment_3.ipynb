{
  "nbformat": 4,
  "nbformat_minor": 0,
  "metadata": {
    "colab": {
      "provenance": [],
      "authorship_tag": "ABX9TyObJo1jmLgXeVU8VFnJkaXW",
      "include_colab_link": true
    },
    "kernelspec": {
      "name": "python3",
      "display_name": "Python 3"
    },
    "language_info": {
      "name": "python"
    }
  },
  "cells": [
    {
      "cell_type": "markdown",
      "metadata": {
        "id": "view-in-github",
        "colab_type": "text"
      },
      "source": [
        "<a href=\"https://colab.research.google.com/github/vipin0761/pwskills_DS/blob/main/assignment_3.ipynb\" target=\"_parent\"><img src=\"https://colab.research.google.com/assets/colab-badge.svg\" alt=\"Open In Colab\"/></a>"
      ]
    },
    {
      "cell_type": "markdown",
      "source": [
        "Q1. Which keyword is used to create a function? Create a function to return a list of odd numbers in the\n",
        "range of 1 to 25."
      ],
      "metadata": {
        "id": "NSnF_B922ehw"
      }
    },
    {
      "cell_type": "code",
      "execution_count": 3,
      "metadata": {
        "colab": {
          "base_uri": "https://localhost:8080/"
        },
        "id": "XYdZAtIz2ZKM",
        "outputId": "a1a136eb-1df5-48a7-caea-3b018665670a"
      },
      "outputs": [
        {
          "output_type": "stream",
          "name": "stdout",
          "text": [
            "[1, 3, 5, 7, 9, 11, 13, 15, 17, 19, 21, 23]\n"
          ]
        }
      ],
      "source": [
        "def getOdd():\n",
        "  return [i for i in range(1,25,2)]\n",
        "print(getOdd())"
      ]
    },
    {
      "cell_type": "markdown",
      "source": [
        "Q2. Why *args and **kwargs is used in some functions? Create a function each for *args and **kwargs\n",
        "to demonstrate their use."
      ],
      "metadata": {
        "id": "IKUH38ea2emf"
      }
    },
    {
      "cell_type": "code",
      "source": [
        "# args is used to accept unknown no of arguments within a function\n",
        "# kwargs is used to accept unknwn no. of key-value args within a function\n",
        "\n",
        "def demo(*args, **kwargs):\n",
        "  for arg in args:\n",
        "    print(arg)\n",
        "  for key, value in kwargs.items():\n",
        "    print(key, value)\n",
        "demo(1,'hi',3,{'name': 'vipin'})"
      ],
      "metadata": {
        "colab": {
          "base_uri": "https://localhost:8080/"
        },
        "id": "zbyVskRq2doq",
        "outputId": "6e5ce197-6149-476e-ef02-8cb9dd908430"
      },
      "execution_count": 4,
      "outputs": [
        {
          "output_type": "stream",
          "name": "stdout",
          "text": [
            "1\n",
            "hi\n",
            "3\n",
            "{'name': 'vipin'}\n"
          ]
        }
      ]
    },
    {
      "cell_type": "markdown",
      "source": [
        "Q3. What is an iterator in python? Name the method used to initialise the iterator object and the method\n",
        "used for iteration. Use these methods to print the first five elements of the given list [2, 4, 6, 8, 10, 12, 14,\n",
        "16, 18, 20]."
      ],
      "metadata": {
        "id": "IXAJZ6cR2eq4"
      }
    },
    {
      "cell_type": "code",
      "source": [
        "a = [i for i in range(2,21,2)]\n",
        "print(a)"
      ],
      "metadata": {
        "colab": {
          "base_uri": "https://localhost:8080/"
        },
        "id": "hKfRQFo83dfO",
        "outputId": "056965fd-087a-4ab8-f7ff-6768b0b5180d"
      },
      "execution_count": 1,
      "outputs": [
        {
          "output_type": "stream",
          "name": "stdout",
          "text": [
            "[2, 4, 6, 8, 10, 12, 14, 16, 18, 20]\n"
          ]
        }
      ]
    },
    {
      "cell_type": "markdown",
      "source": [
        "Q4. What is a generator function in python? Why yield keyword is used? Give an example of a generator\n",
        "function."
      ],
      "metadata": {
        "id": "BqEuQf8e2evG"
      }
    },
    {
      "cell_type": "code",
      "source": [],
      "metadata": {
        "id": "EWyuyvx-3dYD"
      },
      "execution_count": null,
      "outputs": []
    },
    {
      "cell_type": "markdown",
      "source": [
        "Q5. Create a generator function for prime numbers less than 1000. Use the next() method to print the\n",
        "first 20 prime numbers."
      ],
      "metadata": {
        "id": "FEl7c0iD2ey9"
      }
    },
    {
      "cell_type": "code",
      "source": [],
      "metadata": {
        "id": "Cqho-Rm53dFY"
      },
      "execution_count": null,
      "outputs": []
    },
    {
      "cell_type": "markdown",
      "source": [
        "Q6. Write a python program to print the first 10 Fibonacci numbers using a while loop."
      ],
      "metadata": {
        "id": "TSpmMMJM2e3N"
      }
    },
    {
      "cell_type": "code",
      "source": [
        "def fibo():\n",
        "  a = 0\n",
        "  b = 1\n",
        "  print(a)\n",
        "  print(b)\n",
        "  c = 2\n",
        "  while c < 10:\n",
        "    t = a + b\n",
        "    print(t)\n",
        "    a,b = b,t\n",
        "    c += 1\n",
        "fibo()"
      ],
      "metadata": {
        "colab": {
          "base_uri": "https://localhost:8080/"
        },
        "id": "vR8cJRGY3c9K",
        "outputId": "228013f0-fffd-44c6-93c6-dbe29e1b650d"
      },
      "execution_count": 7,
      "outputs": [
        {
          "output_type": "stream",
          "name": "stdout",
          "text": [
            "0\n",
            "1\n",
            "1\n",
            "2\n",
            "3\n",
            "5\n",
            "8\n",
            "13\n",
            "21\n",
            "34\n"
          ]
        }
      ]
    },
    {
      "cell_type": "markdown",
      "source": [
        "Q7. Write a List Comprehension to iterate through the given string: ‘pwskills’.\n",
        "Expected output: ['p', 'w', 's', 'k', 'i', 'l', 'l', 's']"
      ],
      "metadata": {
        "id": "jV79HHaG2e9W"
      }
    },
    {
      "cell_type": "code",
      "source": [
        "pw = [i for i in 'pwskills']\n",
        "print(pw)"
      ],
      "metadata": {
        "colab": {
          "base_uri": "https://localhost:8080/"
        },
        "id": "9xLk6hqo3czS",
        "outputId": "8f69f933-bd44-4307-86de-5eb0ebceacf6"
      },
      "execution_count": 8,
      "outputs": [
        {
          "output_type": "stream",
          "name": "stdout",
          "text": [
            "['p', 'w', 's', 'k', 'i', 'l', 'l', 's']\n"
          ]
        }
      ]
    },
    {
      "cell_type": "markdown",
      "source": [
        "Q8. Write a python program to check whether a given number is Palindrome or not using a while loop."
      ],
      "metadata": {
        "id": "SjU1OWSv2fBD"
      }
    },
    {
      "cell_type": "code",
      "source": [
        "def isPalindrome(n):\n",
        "  n = str(n)\n",
        "  st = 0\n",
        "  end = len(n)-1\n",
        "  while st <= end:\n",
        "    if n[st] != n[end]:\n",
        "      return False\n",
        "    st += 1\n",
        "    end -= 1\n",
        "  return True\n",
        "\n",
        "isPalindrome(1231)\n",
        "isPalindrome(1221)"
      ],
      "metadata": {
        "colab": {
          "base_uri": "https://localhost:8080/"
        },
        "id": "TTPiZz_M3crB",
        "outputId": "6e4fc9ba-ca4d-4add-c0d4-f8243c24c515"
      },
      "execution_count": 12,
      "outputs": [
        {
          "output_type": "execute_result",
          "data": {
            "text/plain": [
              "True"
            ]
          },
          "metadata": {},
          "execution_count": 12
        }
      ]
    },
    {
      "cell_type": "markdown",
      "source": [
        "Q9. Write a code to print odd numbers from 1 to 100 using list comprehension.\n",
        "Note: Use a list comprehension to create a list from 1 to 100 and use another List comprehension to filter\n",
        "out odd numbers."
      ],
      "metadata": {
        "id": "X3XTmtdK2fFQ"
      }
    },
    {
      "cell_type": "code",
      "source": [
        "x = [i for i in range(100)]\n",
        "y = [i for i in  x if i %2 == 1]\n",
        "print(y)"
      ],
      "metadata": {
        "colab": {
          "base_uri": "https://localhost:8080/"
        },
        "id": "a7p3KOb23w6w",
        "outputId": "4cdb2762-7cc7-4f99-9429-067e4e8d64fc"
      },
      "execution_count": 13,
      "outputs": [
        {
          "output_type": "stream",
          "name": "stdout",
          "text": [
            "[1, 3, 5, 7, 9, 11, 13, 15, 17, 19, 21, 23, 25, 27, 29, 31, 33, 35, 37, 39, 41, 43, 45, 47, 49, 51, 53, 55, 57, 59, 61, 63, 65, 67, 69, 71, 73, 75, 77, 79, 81, 83, 85, 87, 89, 91, 93, 95, 97, 99]\n"
          ]
        }
      ]
    }
  ]
}