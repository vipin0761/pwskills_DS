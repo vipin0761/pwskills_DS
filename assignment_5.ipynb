{
  "nbformat": 4,
  "nbformat_minor": 0,
  "metadata": {
    "colab": {
      "provenance": [],
      "authorship_tag": "ABX9TyPrMQ1Vg3Ef8KT/f2GZLI6a",
      "include_colab_link": true
    },
    "kernelspec": {
      "name": "python3",
      "display_name": "Python 3"
    },
    "language_info": {
      "name": "python"
    }
  },
  "cells": [
    {
      "cell_type": "markdown",
      "metadata": {
        "id": "view-in-github",
        "colab_type": "text"
      },
      "source": [
        "<a href=\"https://colab.research.google.com/github/vipin0761/pwskills_DS/blob/main/assignment_5.ipynb\" target=\"_parent\"><img src=\"https://colab.research.google.com/assets/colab-badge.svg\" alt=\"Open In Colab\"/></a>"
      ]
    },
    {
      "cell_type": "markdown",
      "source": [
        "Q1, Create a vehicle class with an init method having instance variables as name_of_vehicle, max_speed\n",
        "and average_of_vehicle."
      ],
      "metadata": {
        "id": "ECS1QJ-F1AO7"
      }
    },
    {
      "cell_type": "code",
      "source": [
        "class Vehicle:\n",
        "    def __init__(self,name,speed,average):\n",
        "        self.name_of_vehicle = name\n",
        "        self.max_speed = speed\n",
        "        self.average_of_vehicle = average"
      ],
      "metadata": {
        "id": "H2aF2elQ4KBB"
      },
      "execution_count": null,
      "outputs": []
    },
    {
      "cell_type": "markdown",
      "source": [
        "Q2. Create a child class car from the vehicle class created in Que 1, which will inherit the vehicle class.\n",
        "Create a method named seating_capacity which takes capacity as an argument and returns the name of\n",
        "the vehicle and its seating capacity."
      ],
      "metadata": {
        "id": "unjFi7fw1AR6"
      }
    },
    {
      "cell_type": "code",
      "source": [
        "class Car(Vehicle):\n",
        "    def __init__(self,name,speed,average):\n",
        "        super().__init__(name,speed,average)\n",
        "\n",
        "    def seating_capacity(self,capacity):\n",
        "        return [self.name_of_vehicle,capacity]"
      ],
      "metadata": {
        "id": "CiikLFKx4Kfn"
      },
      "execution_count": null,
      "outputs": []
    },
    {
      "cell_type": "markdown",
      "source": [
        "Q3. What is multiple inheritance? Write a python code to demonstrate multiple inheritance."
      ],
      "metadata": {
        "id": "Ha9ZHPE61AUM"
      }
    },
    {
      "cell_type": "code",
      "source": [
        "# multiple inheritance basically refers to the scenario when a class derives properties from multiple parent classes.\n",
        "\n",
        "class Base1:\n",
        "    def m(self):\n",
        "        print(\"In Base1\")\n",
        "\n",
        "\n",
        "class Base2():\n",
        "    def m(self):\n",
        "        print(\"In Base2\")\n",
        "\n",
        "\n",
        "class Class3(Base1, Base2):\n",
        "    def m(self):\n",
        "        print(\"In Class3\")\n",
        "\n",
        "\n",
        "obj = Class3()\n",
        "obj.m()"
      ],
      "metadata": {
        "id": "XJrmTVv24K2p"
      },
      "execution_count": null,
      "outputs": []
    },
    {
      "cell_type": "markdown",
      "source": [
        "Q4. What are getter and setter in python? Create a class and create a getter and a setter method in this\n",
        "class."
      ],
      "metadata": {
        "id": "VU-1GyOP1AW1"
      }
    },
    {
      "cell_type": "code",
      "source": [
        "\n",
        "'''\n",
        "-- We use getters & setters to add validation logic around getting and setting a value.\n",
        "-- To avoid direct access of a class field i.e. private variables cannot be accessed directly or modified by external user.\n",
        "'''\n",
        "\n",
        "class Person:\n",
        "    def __init__(self, age=0):\n",
        "        self.age = age\n",
        "\n",
        "    # getter method\n",
        "    def get_age(self):\n",
        "        return self.age\n",
        "\n",
        "    # setter method\n",
        "    def set_age(self, x):\n",
        "        self.age = x"
      ],
      "metadata": {
        "id": "0QPzN9Ty4LYO"
      },
      "execution_count": null,
      "outputs": []
    },
    {
      "cell_type": "markdown",
      "source": [
        "Q5.What is method overriding in python? Write a python code to demonstrate method overriding."
      ],
      "metadata": {
        "id": "qdkA8Q9K1AZ3"
      }
    },
    {
      "cell_type": "code",
      "source": [
        "# it refers to the phenomenon when a base class method id overridden by a dervied class method\n",
        "class Base1:\n",
        "    def m(self):\n",
        "        print(\"In Base1\")\n",
        "\n",
        "\n",
        "class Class3(Base1):\n",
        "    def m(self):\n",
        "        print(\"In Class3\")\n",
        "\n",
        "\n",
        "obj = Class3()\n",
        "obj.m()"
      ],
      "metadata": {
        "id": "TAOsgu1M4L1o"
      },
      "execution_count": null,
      "outputs": []
    }
  ]
}