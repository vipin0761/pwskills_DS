{
  "nbformat": 4,
  "nbformat_minor": 0,
  "metadata": {
    "colab": {
      "provenance": [],
      "authorship_tag": "ABX9TyPAcSeGDfbF9zGTWj1ezgLz",
      "include_colab_link": true
    },
    "kernelspec": {
      "name": "python3",
      "display_name": "Python 3"
    },
    "language_info": {
      "name": "python"
    }
  },
  "cells": [
    {
      "cell_type": "markdown",
      "metadata": {
        "id": "view-in-github",
        "colab_type": "text"
      },
      "source": [
        "<a href=\"https://colab.research.google.com/github/vipin0761/pwskills_DS/blob/main/stat_assignment_2.ipynb\" target=\"_parent\"><img src=\"https://colab.research.google.com/assets/colab-badge.svg\" alt=\"Open In Colab\"/></a>"
      ]
    },
    {
      "cell_type": "code",
      "execution_count": null,
      "metadata": {
        "id": "2HGD2P9hR4w7"
      },
      "outputs": [],
      "source": [
        "Q1. What are the three measures of central tendency?\n",
        "\n",
        "mean, mode and median\n",
        "\n",
        "Q2. What is the difference between the mean, median, and mode? How are they used to measure the\n",
        "central tendency of a dataset?\n",
        "\n",
        "mean -- the average of all observations\n",
        "mode -- the most frequently occuring value in the datset\n",
        "median -- the middle number of the sorted dataset\n",
        "\n",
        "\n",
        "Q12. For a normal distribution data what is the relationship between its measure of central tendency?\n",
        "Q13. How is covariance different from correlation?\n",
        "Q14. How do outliers affect measures of central tendency and dispersion? Provide an example."
      ]
    },
    {
      "cell_type": "code",
      "source": [
        "# Q3. Measure the three measures of central tendency for the given height data:\n",
        "# [178,177,176,177,178.2,178,175,179,180,175,178.9,176.2,177,172.5,178,176.5]\n",
        "\n",
        "import statistics\n",
        "\n",
        "arr = [178,177,176,177,178.2,178,175,179,180,175,178.9,176.2,177,172.5,178,176.5]"
      ],
      "metadata": {
        "id": "djXjyrz4UEOh"
      },
      "execution_count": 1,
      "outputs": []
    },
    {
      "cell_type": "code",
      "source": [
        "statistics.mean(arr)"
      ],
      "metadata": {
        "colab": {
          "base_uri": "https://localhost:8080/"
        },
        "id": "NIxPh9TAUdQM",
        "outputId": "86345f13-e7be-45c8-ee43-30e4cdf58fa7"
      },
      "execution_count": 2,
      "outputs": [
        {
          "output_type": "execute_result",
          "data": {
            "text/plain": [
              "177.01875"
            ]
          },
          "metadata": {},
          "execution_count": 2
        }
      ]
    },
    {
      "cell_type": "code",
      "source": [
        "statistics.median(arr)"
      ],
      "metadata": {
        "colab": {
          "base_uri": "https://localhost:8080/"
        },
        "id": "ICjq-cGiUkzc",
        "outputId": "f3353066-37c6-4cc2-8aad-18a43d890a03"
      },
      "execution_count": 3,
      "outputs": [
        {
          "output_type": "execute_result",
          "data": {
            "text/plain": [
              "177.0"
            ]
          },
          "metadata": {},
          "execution_count": 3
        }
      ]
    },
    {
      "cell_type": "code",
      "source": [
        "statistics.mode(arr)"
      ],
      "metadata": {
        "colab": {
          "base_uri": "https://localhost:8080/"
        },
        "id": "eddc23HAUk5z",
        "outputId": "c71f3344-ef2b-45dd-b41a-c68e888a1e98"
      },
      "execution_count": 4,
      "outputs": [
        {
          "output_type": "execute_result",
          "data": {
            "text/plain": [
              "178"
            ]
          },
          "metadata": {},
          "execution_count": 4
        }
      ]
    },
    {
      "cell_type": "code",
      "source": [
        "# Q4. Find the standard deviation for the given data:\n",
        "# [178,177,176,177,178.2,178,175,179,180,175,178.9,176.2,177,172.5,178,176.5]\n",
        "\n",
        "statistics.stdev(arr)"
      ],
      "metadata": {
        "colab": {
          "base_uri": "https://localhost:8080/"
        },
        "id": "tfjXBeyjUk9I",
        "outputId": "ef7076ce-b43b-494d-e97c-ffcb4ab24156"
      },
      "execution_count": 5,
      "outputs": [
        {
          "output_type": "execute_result",
          "data": {
            "text/plain": [
              "1.8472389305844188"
            ]
          },
          "metadata": {},
          "execution_count": 5
        }
      ]
    },
    {
      "cell_type": "markdown",
      "source": [
        "Q5. How are measures of dispersion such as range, variance, and standard deviation used to describe\n",
        "the spread of a dataset? Provide an example.\n",
        "\n",
        "\n",
        "range -- max-min (represents the range of the data)\n",
        "e.g -- 0-100 for marks\n",
        "\n",
        "variance -- it measures the deviation of each datapoint from the mean\n",
        "variance for 10 student marks is 200 based on mean score of 65\n",
        "\n",
        "standard deviation -- it measures the deviation of each datapoint from the mean\n",
        " on a more quantifiable manner\n",
        "\n",
        " Q6. What is a Venn diagram?\n",
        " venn diagram is a pictorial representation of the datasets\n",
        "\n",
        ""
      ],
      "metadata": {
        "id": "Q79gNAT2VDjH"
      }
    },
    {
      "cell_type": "code",
      "source": [
        "# Q7. For the two given sets A = (2,3,4,5,6,7) & B = (0,2,6,8,10). Find:\n",
        "# (i) A B\n",
        "# (ii) A ⋃ B\n",
        "\n",
        "A = set([2,3,4,5,6,7])\n",
        "B = set([0,2,6,8,10])\n",
        "A&B"
      ],
      "metadata": {
        "colab": {
          "base_uri": "https://localhost:8080/"
        },
        "id": "eVxbxwDWUlAa",
        "outputId": "358b0bd7-1804-44c3-b48c-9ee7f98469fa"
      },
      "execution_count": 11,
      "outputs": [
        {
          "output_type": "execute_result",
          "data": {
            "text/plain": [
              "{2, 6}"
            ]
          },
          "metadata": {},
          "execution_count": 11
        }
      ]
    },
    {
      "cell_type": "code",
      "source": [
        "A|B"
      ],
      "metadata": {
        "colab": {
          "base_uri": "https://localhost:8080/"
        },
        "id": "calQE3w6UlDk",
        "outputId": "ba8d3065-9022-4ea4-b9fe-3a7c33afdd34"
      },
      "execution_count": 12,
      "outputs": [
        {
          "output_type": "execute_result",
          "data": {
            "text/plain": [
              "{0, 2, 3, 4, 5, 6, 7, 8, 10}"
            ]
          },
          "metadata": {},
          "execution_count": 12
        }
      ]
    },
    {
      "cell_type": "markdown",
      "source": [
        "Q8. What do you understand about skewness in data?\n",
        "\n",
        "skewness refers to the phenomem that the data is not symmetrical on both across the mean.\n",
        "\n",
        "Q9. If a data is right skewed then what will be the position of median with respect to mean?\n",
        "\n",
        "mean > median > mode\n",
        "\n",
        "Q10. Explain the difference between covariance and correlation. How are these measures used in\n",
        "statistical analysis?\n",
        "\n",
        "Covariance indicates the direction of the linear relationship between variables. Correlation on the other hand measures both the strength and direction of the linear relationship between two variables.\n",
        "\n",
        "Q11. What is the formula for calculating the sample mean? Provide an example calculation for a\n",
        "dataset.\n",
        "\n",
        "X = (n1+n2+n3...n)/n\n",
        "arr = [178,177,176,177,178.2,178,175,179,180,175,178.9,176.2,177,172.5,178,176.5]\n",
        "sample = [178,175,179,180,175]\n",
        "x = (178+175+179+180+175)/5\n",
        "\n",
        "Q12. For a normal distribution data what is the relationship between its measure of central tendency?\n",
        "mean=mode=median for a normal distribution\n",
        "\n",
        "Q13. How is covariance different from correlation?\n",
        "ovariance indicates the direction of the linear relationship between variables. Correlation on the other hand measures both the strength and direction of the linear relationship between two variables.\n",
        "\n",
        "\n",
        "Q14. How do outliers affect measures of central tendency and dispersion? Provide an example.\n",
        "mean is most impacted, followed by median mode is the least impacted.\n",
        "\n",
        "for average marks if one student does not apprear for the exams and is rewarded 0 it will pull the average down significantly for the class.\n",
        "\n",
        "\n",
        "\n"
      ],
      "metadata": {
        "id": "FS-4zuGRXuGI"
      }
    }
  ]
}