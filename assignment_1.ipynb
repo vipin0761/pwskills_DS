{
 "cells": [
  {
   "cell_type": "code",
   "execution_count": 3,
   "id": "9e5992e8-c233-4318-bce5-a381c28f5c48",
   "metadata": {},
   "outputs": [],
   "source": [
    "'''Q1. Create one variable containing following type of data:\n",
    "(i) string\n",
    "(ii) list\n",
    "(iii) float\n",
    "(iv) tuple\n",
    "'''\n",
    "\n",
    "name = 'vipin'\n",
    "marks = [10,20,30,4,'hello', True]\n",
    "perct = 56.87\n",
    "data = (10,20)\n"
   ]
  },
  {
   "cell_type": "code",
   "execution_count": 4,
   "id": "1aa9628a-ac27-45eb-b2ba-d1c66487f232",
   "metadata": {},
   "outputs": [
    {
     "data": {
      "text/plain": [
       "'\\nQ2. Given are some following variables containing data:\\n(i) var1 = ‘ ‘\\n(ii) var2 = ‘[ DS , ML , Python]’\\n(iii) var3 = [ ‘DS’ , ’ML’ , ‘Python’ ]\\n(iv) var4 = 1.\\n'"
      ]
     },
     "execution_count": 4,
     "metadata": {},
     "output_type": "execute_result"
    }
   ],
   "source": [
    "'''\n",
    "Q2. Given are some following variables containing data:\n",
    "(i) var1 = ‘ ‘\n",
    "(ii) var2 = ‘[ DS , ML , Python]’\n",
    "(iii) var3 = [ ‘DS’ , ’ML’ , ‘Python’ ]\n",
    "(iv) var4 = 1.\n",
    "'''\n",
    "\n",
    "#var1 -- string\n",
    "#var2 -- list\n",
    "#var3 -- list\n",
    "#var4 -- float"
   ]
  },
  {
   "cell_type": "code",
   "execution_count": 7,
   "id": "0314ed3e-2301-470b-93bc-f8f96a140672",
   "metadata": {},
   "outputs": [],
   "source": [
    "'''\n",
    "Q3. Explain the use of the following operators using an example:\n",
    "(i) /\n",
    "(ii) %\n",
    "(iii) //\n",
    "(iv) **\n",
    "'''\n",
    "\n",
    "average = (10+20)/2\n",
    "modulus = 10%3\n",
    "div = 10//3\n",
    "d = 2**3"
   ]
  },
  {
   "cell_type": "code",
   "execution_count": 9,
   "id": "c31ac902-03dc-4df5-b44e-3ab0ee2d2cc4",
   "metadata": {},
   "outputs": [
    {
     "name": "stdout",
     "output_type": "stream",
     "text": [
      "1\n",
      "2\n",
      "3\n",
      "5\n",
      "9\n",
      "True\n",
      "hey\n",
      "2.5\n",
      "8\n",
      "False\n"
     ]
    }
   ],
   "source": [
    "#Create a list of length 10 of your choice containing multiple types of data. Using for loop print the element and its data type.\n",
    "\n",
    "arr = [1,2,3,5,9,True,'hey',2.5,8,False]\n",
    "\n",
    "for i in arr:\n",
    "    print(i)"
   ]
  },
  {
   "cell_type": "code",
   "execution_count": 10,
   "id": "3af9a85b-3ec4-4191-a4ed-7ed8bf3df9b5",
   "metadata": {},
   "outputs": [
    {
     "name": "stdout",
     "output_type": "stream",
     "text": [
      "4\n"
     ]
    }
   ],
   "source": [
    "# Q5. Using a while loop, verify if the number A is purely divisible by number B and if so then how many times it can be divisible.\n",
    "count = 0\n",
    "A = 80\n",
    "B = 2\n",
    "\n",
    "while A%B == 0:\n",
    "    A = A//B\n",
    "    count += 1\n",
    "print(count)"
   ]
  },
  {
   "cell_type": "code",
   "execution_count": 12,
   "id": "a607a00d-6ced-423b-ae69-e8f390dee6c0",
   "metadata": {},
   "outputs": [
    {
     "name": "stdout",
     "output_type": "stream",
     "text": [
      "True\n",
      "False\n",
      "False\n",
      "True\n",
      "False\n",
      "False\n",
      "True\n",
      "False\n",
      "False\n",
      "True\n",
      "False\n",
      "False\n",
      "True\n",
      "False\n",
      "False\n",
      "True\n",
      "False\n",
      "False\n",
      "True\n",
      "False\n",
      "False\n",
      "True\n",
      "False\n",
      "False\n",
      "True\n"
     ]
    }
   ],
   "source": [
    "# Q6. Create a list containing 25 int type data. Using for loop and if-else condition print if the element is divisible by 3 or not.\n",
    "\n",
    "arr = range(25)\n",
    "\n",
    "for i in arr:\n",
    "    print(i%3 ==0)\n"
   ]
  },
  {
   "cell_type": "code",
   "execution_count": null,
   "id": "4e757353-5108-4669-8fb3-3b9cc12ebf4a",
   "metadata": {},
   "outputs": [],
   "source": [
    "# Q7. What do you understand about mutable and immutable data types? Give examples for both showing this property.\n",
    "\n",
    "arr = [1,2,3]\n",
    "arr[1] = 20 # mutable (allowed operation)\n",
    "\n",
    "st = 'hello'\n",
    "\n",
    "st[1] = 'r' # immutable (not allowed operation)"
   ]
  }
 ],
 "metadata": {
  "kernelspec": {
   "display_name": "Python 3 (ipykernel)",
   "language": "python",
   "name": "python3"
  },
  "language_info": {
   "codemirror_mode": {
    "name": "ipython",
    "version": 3
   },
   "file_extension": ".py",
   "mimetype": "text/x-python",
   "name": "python",
   "nbconvert_exporter": "python",
   "pygments_lexer": "ipython3",
   "version": "3.10.8"
  }
 },
 "nbformat": 4,
 "nbformat_minor": 5
}
