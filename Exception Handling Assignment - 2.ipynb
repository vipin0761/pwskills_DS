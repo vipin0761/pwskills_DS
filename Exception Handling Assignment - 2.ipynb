{
  "nbformat": 4,
  "nbformat_minor": 0,
  "metadata": {
    "colab": {
      "provenance": [],
      "authorship_tag": "ABX9TyMMMCFNbuWT4noJ3id8lg6Y",
      "include_colab_link": true
    },
    "kernelspec": {
      "name": "python3",
      "display_name": "Python 3"
    },
    "language_info": {
      "name": "python"
    }
  },
  "cells": [
    {
      "cell_type": "markdown",
      "metadata": {
        "id": "view-in-github",
        "colab_type": "text"
      },
      "source": [
        "<a href=\"https://colab.research.google.com/github/vipin0761/pwskills_DS/blob/main/Exception%20Handling%20Assignment%20-%202.ipynb\" target=\"_parent\"><img src=\"https://colab.research.google.com/assets/colab-badge.svg\" alt=\"Open In Colab\"/></a>"
      ]
    },
    {
      "cell_type": "markdown",
      "source": [
        "Q1. Explain why we have to use the Exception class while creating a Custom Exception.\n",
        "Note: Here Exception class refers to the base class for all the exceptions.\n",
        "Q2. Write a python program to print Python Exception Hierarchy.\n",
        "Q3. What errors are defined in the ArithmeticError class? Explain any two with an example.\n",
        "Q4. Why LookupError class is used? Explain with an example KeyError and IndexError.\n",
        "Q5. Explain ImportError. What is ModuleNotFoundError?\n",
        "Q6. List down some best practices for exception handling in python."
      ],
      "metadata": {
        "id": "6MvGMZJRX3_q"
      }
    }
  ]
}