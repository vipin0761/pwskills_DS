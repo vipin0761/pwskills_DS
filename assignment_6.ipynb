{
  "nbformat": 4,
  "nbformat_minor": 0,
  "metadata": {
    "colab": {
      "provenance": [],
      "authorship_tag": "ABX9TyOF5t12oO6oHztYldbTdHWR",
      "include_colab_link": true
    },
    "kernelspec": {
      "name": "python3",
      "display_name": "Python 3"
    },
    "language_info": {
      "name": "python"
    }
  },
  "cells": [
    {
      "cell_type": "markdown",
      "metadata": {
        "id": "view-in-github",
        "colab_type": "text"
      },
      "source": [
        "<a href=\"https://colab.research.google.com/github/vipin0761/pwskills_DS/blob/main/assignment_6.ipynb\" target=\"_parent\"><img src=\"https://colab.research.google.com/assets/colab-badge.svg\" alt=\"Open In Colab\"/></a>"
      ]
    },
    {
      "cell_type": "markdown",
      "source": [
        "Q1. Explain Class and Object with respect to Object-Oriented Programming. Give a suitable example."
      ],
      "metadata": {
        "id": "CLUPa6zFPerr"
      }
    },
    {
      "cell_type": "code",
      "source": [
        "# class is like a blue print od a reral world entity\n",
        "# object is a instance of a real world entity\n",
        "\n",
        "class Student:\n",
        "    def __init__(self, name, age, courses):\n",
        "        self.name = name\n",
        "        self.age = age\n",
        "        self.courses = courses\n",
        "\n",
        "s1 = Student('vipin','29',['DSA','DS'])"
      ],
      "metadata": {
        "id": "JDvYGeViPlEi"
      },
      "execution_count": null,
      "outputs": []
    },
    {
      "cell_type": "markdown",
      "source": [
        "Q2. Name the four pillars of OOPs."
      ],
      "metadata": {
        "id": "yPBKFMVlPe2a"
      }
    },
    {
      "cell_type": "code",
      "execution_count": null,
      "metadata": {
        "id": "tyHKlflQPT2k"
      },
      "outputs": [],
      "source": [
        "# inheritance\n",
        "# polymorphism\n",
        "# encapsulation\n",
        "# abstraction"
      ]
    },
    {
      "cell_type": "markdown",
      "source": [
        "Q3. Explain why the __init__() function is used. Give a suitable example."
      ],
      "metadata": {
        "id": "aWsHCqzUPe9E"
      }
    },
    {
      "cell_type": "code",
      "source": [
        "# Constructor is used most commony to initialize the params associated iwth a object.\n",
        "\n",
        "class Student:\n",
        "    def __init__(self, name, age, courses):\n",
        "        self.name = name\n",
        "        self.age = age\n",
        "        self.courses = courses\n",
        "\n",
        "s1 = Student('vipin','29',['DSA','DS'])"
      ],
      "metadata": {
        "id": "yXatsrTfQkIr"
      },
      "execution_count": null,
      "outputs": []
    },
    {
      "cell_type": "markdown",
      "source": [
        "Q4. Why self is used in OOPs?"
      ],
      "metadata": {
        "id": "uwk2GLFgPfDZ"
      }
    },
    {
      "cell_type": "code",
      "source": [
        "# self is uesd to associate methods with the class they are defined in.\n",
        "\n",
        "class Student:\n",
        "    def __init__(self, name, age, courses):\n",
        "        self.name = name\n",
        "        self.age = age\n",
        "        self.courses = courses\n",
        "\n",
        "    def getStudent(self):\n",
        "        print(self.name)\n"
      ],
      "metadata": {
        "id": "JKf3yC0-Qtx1"
      },
      "execution_count": null,
      "outputs": []
    },
    {
      "cell_type": "markdown",
      "source": [
        "Q5. What is inheritance? Give an example for each type of inheritance."
      ],
      "metadata": {
        "id": "XeRC7gxFPfz7"
      }
    },
    {
      "cell_type": "code",
      "source": [
        "1. single inheritace\n",
        "\n",
        "vehicle --> Truck\n",
        "\n",
        "2. Multi-level Inhertance\n",
        "\n",
        "Granfather --> Father --> Son\n",
        "\n",
        "3. Multiple inheritance\n",
        "\n",
        "Father --> Son and Mother --> Son\n",
        "\n",
        "4. Hierarchical Inheritance\n",
        "\n",
        "Vehicle --> Car, Vehicle --> Truck, Vehicle --> Bus\n",
        "\n",
        "5. Hybrid Inheritance\n",
        "\n",
        "any valid combination of above 4"
      ],
      "metadata": {
        "id": "ZgSJOek1RAZo"
      },
      "execution_count": null,
      "outputs": []
    }
  ]
}