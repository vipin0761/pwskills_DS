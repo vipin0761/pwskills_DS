{
  "nbformat": 4,
  "nbformat_minor": 0,
  "metadata": {
    "colab": {
      "provenance": [],
      "authorship_tag": "ABX9TyMedKmyYkl52PLFWEId+AK0",
      "include_colab_link": true
    },
    "kernelspec": {
      "name": "python3",
      "display_name": "Python 3"
    },
    "language_info": {
      "name": "python"
    }
  },
  "cells": [
    {
      "cell_type": "markdown",
      "metadata": {
        "id": "view-in-github",
        "colab_type": "text"
      },
      "source": [
        "<a href=\"https://colab.research.google.com/github/vipin0761/pwskills_DS/blob/main/assignment_7.ipynb\" target=\"_parent\"><img src=\"https://colab.research.google.com/assets/colab-badge.svg\" alt=\"Open In Colab\"/></a>"
      ]
    },
    {
      "cell_type": "markdown",
      "source": [
        "Q1. What is Abstraction in OOps? Explain with an example.\n",
        "\n",
        "abstaracttion helps hide the necessary implementation details from the end user providing them with a easier interface to interact with the system.\n",
        "\n",
        "e.g. when you geta coffee form a coffee machine you don't worry how the machine prepares it you just press the button and the coffee dispenses."
      ],
      "metadata": {
        "id": "0-yHSN5SSUT2"
      }
    },
    {
      "cell_type": "markdown",
      "source": [
        "Q2. Differentiate between Abstraction and Encapsulation. Explain with an example.\n",
        "\n",
        "abstraction refers to the fact of hining backround details from the end user\n",
        "\n",
        "like providing a simple button to dispense coffee\n",
        "\n",
        "encapsulation refers to combining all the data and objects working on the data in a single unit like combining all the raw material and machinery in a single coffee maker."
      ],
      "metadata": {
        "id": "If_AlZP5SUXG"
      }
    },
    {
      "cell_type": "markdown",
      "source": [
        "Q3. What is abc module in python? Why is it used?\n",
        "\n",
        "ABC module provides the infrastructure for defining abstreact base class in python."
      ],
      "metadata": {
        "id": "KkALWFStSUal"
      }
    },
    {
      "cell_type": "markdown",
      "source": [
        "Q4. How can we achieve data abstraction?"
      ],
      "metadata": {
        "id": "Ml9UE-3dSUdm"
      }
    },
    {
      "cell_type": "code",
      "source": [
        "from abc import ABC\n",
        "class llgm(ABC): #abstract class\n",
        "  def calculate_area(self): #abstract methodpass\n",
        "    pass\n",
        "\n",
        "class Square(llgm):\n",
        "  length = 5\n",
        "  def Area(self):\n",
        "    return self.length * self.length\n",
        "\n",
        "class Circle(llgm):\n",
        "  radius =4\n",
        "  def Area(self):\n",
        "    return 3.14 * self.radius * self.radius\n"
      ],
      "metadata": {
        "id": "4cyHqTxdUYb1"
      },
      "execution_count": null,
      "outputs": []
    },
    {
      "cell_type": "markdown",
      "source": [
        "Q5. Can we create an instance of an abstract class? Explain your answer.\n",
        "\n",
        "no you cannot create an instance of an abstract class as we need to define the abstract methods within the class in a derived class before using it."
      ],
      "metadata": {
        "id": "_hiDtEzRSUgQ"
      }
    }
  ]
}